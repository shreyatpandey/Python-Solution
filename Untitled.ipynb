{
 "cells": [
  {
   "cell_type": "code",
   "execution_count": 64,
   "metadata": {},
   "outputs": [],
   "source": [
    "class Solution(object):\n",
    "    def restoreIPAddresses(self,s):\n",
    "        list_valid_ip_address = []\n",
    "        ip_length = len(s)\n",
    "        if(ip_length>12):\n",
    "            return -1\n",
    "        temp_string = s\n",
    "        \n",
    "        for i in range(1,4):\n",
    "            for j in range(1,4):\n",
    "                for k in range(1,4):\n",
    "                    d = ip_length - (i+j+k)\n",
    "                    if(d>0 and d<=3 and i+j+k+d == ip_length):\n",
    "                        first_part = (temp_string[:i])\n",
    "                        second_part = (temp_string[i:(i+j)])\n",
    "                        third_part = (temp_string[(i+j):(i+j+k)])\n",
    "                        fourth_part =(temp_string[(i+j+k):])\n",
    "                        if(int(first_part)<=255 and int(second_part)<=255 and int(third_part)<=255 and int(fourth_part)<=255):\n",
    "                            store_string = first_part+\".\"+second_part+\".\"+third_part+\".\"+fourth_part\n",
    "                            if(len(store_string) == ip_length + 3):\n",
    "                                list_valid_ip_address.append(store_string)\n",
    "        return list_valid_ip_address\n",
    "                            \n",
    "                            \n",
    "                            \n",
    "                            \n",
    "                        \n",
    "                    \n",
    "        \n",
    "            \n",
    "        \n",
    "        \n",
    "            \n",
    "       \n",
    "        \n",
    "        "
   ]
  },
  {
   "cell_type": "code",
   "execution_count": 65,
   "metadata": {},
   "outputs": [
    {
     "name": "stdout",
     "output_type": "stream",
     "text": [
      "Possible_ip_string: ['255.255.11.135', '255.255.111.35']\n"
     ]
    }
   ],
   "source": [
    "sol = Solution()\n",
    "input = \"25525511135\"\n",
    "result =sol.restoreIPAddresses(input)\n",
    "print(\"Possible_ip_string:\",result)"
   ]
  },
  {
   "cell_type": "code",
   "execution_count": null,
   "metadata": {},
   "outputs": [],
   "source": []
  }
 ],
 "metadata": {
  "kernelspec": {
   "display_name": "Python 3",
   "language": "python",
   "name": "python3"
  },
  "language_info": {
   "codemirror_mode": {
    "name": "ipython",
    "version": 3
   },
   "file_extension": ".py",
   "mimetype": "text/x-python",
   "name": "python",
   "nbconvert_exporter": "python",
   "pygments_lexer": "ipython3",
   "version": "3.6.4"
  }
 },
 "nbformat": 4,
 "nbformat_minor": 2
}
